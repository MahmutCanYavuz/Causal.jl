{
 "cells": [
  {
   "cell_type": "markdown",
   "metadata": {},
   "source": [
    "# Data Flow \n",
    "\n",
    "The type of data flowing through model connections may be in different form such as real or vector of reals. Below are given some examples illustration different forms for data flow throuhg connections. "
   ]
  },
  {
   "cell_type": "markdown",
   "metadata": {},
   "source": [
    "## Single Link Real Data Flow \n",
    "\n",
    "Let us assume that we have simple model consisting of just a generataor and a writer. The generator generates an output of type real. Consider the model below. "
   ]
  },
  {
   "cell_type": "code",
   "execution_count": 4,
   "metadata": {},
   "outputs": [
    {
     "ename": "MethodError",
     "evalue": "MethodError: no method matching connect!(::Array{Inpin{Float64},1}, ::Array{Inpin{Float64},1})\nClosest candidates are:\n  connect!(!Matched::AbstractArray{#s22,1} where #s22<:Outpin, ::AbstractArray{#s21,1} where #s21<:Inpin) at /home/sari/.julia/dev/Causal/src/submodules/connections/pin.jl:183",
     "output_type": "error",
     "traceback": [
      "MethodError: no method matching connect!(::Array{Inpin{Float64},1}, ::Array{Inpin{Float64},1})\nClosest candidates are:\n  connect!(!Matched::AbstractArray{#s22,1} where #s22<:Outpin, ::AbstractArray{#s21,1} where #s21<:Inpin) at /home/sari/.julia/dev/Causal/src/submodules/connections/pin.jl:183",
      "",
      "Stacktrace:",
      " [1] addbranch!(::Model{LightGraphs.SimpleGraphs.SimpleDiGraph{Int64},Array{Any,1},Array{Any,1},Clock{Float64,Nothing},TaskManager{Any,Any,Inport{Inpin{Bool}},Outport{Outpin{Float64}},Nothing},Nothing}, ::Pair{Symbol,Symbol}, ::Pair{Colon,Colon}) at /home/sari/.julia/dev/Causal/src/modeling/modification.jl:77",
      " [2] addbranch!(::Model{LightGraphs.SimpleGraphs.SimpleDiGraph{Int64},Array{Any,1},Array{Any,1},Clock{Float64,Nothing},TaskManager{Any,Any,Inport{Inpin{Bool}},Outport{Outpin{Float64}},Nothing},Nothing}, ::Pair{Symbol,Symbol}) at /home/sari/.julia/dev/Causal/src/modeling/modification.jl:76",
      " [3] macro expansion at /home/sari/.julia/dev/Causal/src/modeling/defmodel.jl:95 [inlined]",
      " [4] top-level scope at ./In[4]:2"
     ]
    }
   ],
   "source": [
    "using Causal\n",
    "\n",
    "@defmodel model begin \n",
    "    @nodes begin \n",
    "        gen = FunctionGenerator(readout = t -> sin(t), output=ScalarOutport(1))\n",
    "        writer = Writer(input=ScalarInport(1))\n",
    "    end \n",
    "    @branches begin \n",
    "        gen => writer \n",
    "    end\n",
    "end "
   ]
  },
  {
   "cell_type": "code",
   "execution_count": null,
   "metadata": {},
   "outputs": [],
   "source": []
  }
 ],
 "metadata": {
  "kernelspec": {
   "display_name": "Julia 1.4.1",
   "language": "julia",
   "name": "julia-1.4"
  },
  "language_info": {
   "file_extension": ".jl",
   "mimetype": "application/julia",
   "name": "julia",
   "version": "1.4.1"
  }
 },
 "nbformat": 4,
 "nbformat_minor": 4
}
